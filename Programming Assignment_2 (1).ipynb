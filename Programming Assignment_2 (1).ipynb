{
 "cells": [
  {
   "cell_type": "code",
   "execution_count": 4,
   "id": "dca0fece",
   "metadata": {},
   "outputs": [
    {
     "name": "stdout",
     "output_type": "stream",
     "text": [
      "Enter number of killometer :  5\n",
      "the miles value of x is  3.0\n"
     ]
    }
   ],
   "source": [
    "#Write a Python program to convert kilometers to miles?\n",
    "x = int(input(\"Enter number of killometer :  \"))\n",
    "y = x * 0.6\n",
    "print(\"the miles value of x is \", y)\n",
    "\n"
   ]
  },
  {
   "cell_type": "code",
   "execution_count": 7,
   "id": "1f00d2ec",
   "metadata": {},
   "outputs": [
    {
     "name": "stdout",
     "output_type": "stream",
     "text": [
      "Enter temp in celsius :  5\n",
      "the fahrenheit value of c is  41.0\n"
     ]
    }
   ],
   "source": [
    "#Write a Python program to convert Celsius to Fahrenheit?\n",
    "c = int(input(\"Enter temp in celsius :  \"))\n",
    "f = (c * 9/5) + 32\n",
    "print(\"the fahrenheit value of c is \", f)"
   ]
  },
  {
   "cell_type": "code",
   "execution_count": 10,
   "id": "d629f231",
   "metadata": {},
   "outputs": [
    {
     "name": "stdout",
     "output_type": "stream",
     "text": [
      "   December 2021\n",
      "Mo Tu We Th Fr Sa Su\n",
      "       1  2  3  4  5\n",
      " 6  7  8  9 10 11 12\n",
      "13 14 15 16 17 18 19\n",
      "20 21 22 23 24 25 26\n",
      "27 28 29 30 31\n",
      "\n"
     ]
    }
   ],
   "source": [
    "#Write a Python program to display calendar?\n",
    "import calendar\n",
    "yy = 2021  # year\n",
    "mm = 12    # month\n",
    "print(calendar.month(yy, mm))\n"
   ]
  },
  {
   "cell_type": "code",
   "execution_count": 5,
   "id": "8a206ed2",
   "metadata": {},
   "outputs": [
    {
     "name": "stdout",
     "output_type": "stream",
     "text": [
      "Enter the value of  a : 2\n",
      "Enetr the  value of b : 2\n",
      "Enter the value of c : 3\n",
      "The solution are (-0.5-1.118033988749895j) and (-0.5+1.118033988749895j)\n"
     ]
    }
   ],
   "source": [
    "#Write a Python program to solve quadratic equation? ax**2 + bx + c = 0\n",
    "import cmath\n",
    "\n",
    "# import complex math module\n",
    "import cmath\n",
    "\n",
    "a = int(input(\"Enter the value of  a : \"))\n",
    "b = int(input(\"Enetr the  value of b : \"))\n",
    "c = int(input(\"Enter the value of c : \"))\n",
    "\n",
    "# calculate the discriminant\n",
    "d = (b**2) - (4*a*c)\n",
    "\n",
    "sol1 = (-b-cmath.sqrt(d))/(2*a)\n",
    "sol2 = (-b+cmath.sqrt(d))/(2*a)\n",
    "\n",
    "print('The solution are {0} and {1}'.format(sol1,sol2))"
   ]
  },
  {
   "cell_type": "code",
   "execution_count": 7,
   "id": "15de8ac4",
   "metadata": {},
   "outputs": [
    {
     "name": "stdout",
     "output_type": "stream",
     "text": [
      "Enter the value of x : 10\n",
      "Enter the value of y ; 20\n",
      "Value of x :  20  and y :  10\n"
     ]
    }
   ],
   "source": [
    "#Write a Python program to swap two variables without temp variable?\n",
    "x = int(input(\"Enter the value of x : \"))\n",
    "y = int(input(\"Enter the value of y ; \"))\n",
    "x,y = y,x\n",
    "print(\"Value of x : \", x, \" and y : \", y)\n"
   ]
  }
 ],
 "metadata": {
  "kernelspec": {
   "display_name": "Python 3 (ipykernel)",
   "language": "python",
   "name": "python3"
  },
  "language_info": {
   "codemirror_mode": {
    "name": "ipython",
    "version": 3
   },
   "file_extension": ".py",
   "mimetype": "text/x-python",
   "name": "python",
   "nbconvert_exporter": "python",
   "pygments_lexer": "ipython3",
   "version": "3.9.7"
  }
 },
 "nbformat": 4,
 "nbformat_minor": 5
}
