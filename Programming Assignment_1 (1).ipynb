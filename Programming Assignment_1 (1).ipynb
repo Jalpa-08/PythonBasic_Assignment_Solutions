{
 "cells": [
  {
   "cell_type": "code",
   "execution_count": 1,
   "id": "569c48b2",
   "metadata": {},
   "outputs": [
    {
     "name": "stdout",
     "output_type": "stream",
     "text": [
      "Hello Python\n"
     ]
    }
   ],
   "source": [
    "#Write a Python program to print \"Hello Python\"?\n",
    "print(\"Hello Python\")\n"
   ]
  },
  {
   "cell_type": "code",
   "execution_count": 8,
   "id": "47a4893e",
   "metadata": {},
   "outputs": [
    {
     "name": "stdout",
     "output_type": "stream",
     "text": [
      "Enter the value of a : 5\n",
      "Enter the value of b : 6\n",
      "the addition value  11\n",
      "the division value 0.8333333333333334\n"
     ]
    }
   ],
   "source": [
    "#Write a Python program to do arithmetical operations addition and division.?\n",
    "a = int(input(\"Enter the value of a : \"))\n",
    "b = int(input(\"Enter the value of b : \"))\n",
    "C = a + b\n",
    "d = a / b\n",
    "print(\"the addition value \", C)\n",
    "print(\"the division value\", d)"
   ]
  },
  {
   "cell_type": "code",
   "execution_count": 10,
   "id": "244e15ff",
   "metadata": {},
   "outputs": [
    {
     "name": "stdout",
     "output_type": "stream",
     "text": [
      "Enter the value of Base B:4\n",
      "Enter the value of Hight H:5\n",
      "the area of a tringle is 10.0\n"
     ]
    }
   ],
   "source": [
    "#Write a Python program to find the area of a triangle?\n",
    "B = int(input(\"Enter the value of Base B:\"))\n",
    "H = int(input(\"Enter the value of Hight H:\"))\n",
    "A = B*H /2\n",
    "print(\"the area of a tringle is\", A)\n",
    "              \n"
   ]
  },
  {
   "cell_type": "code",
   "execution_count": 13,
   "id": "9d254141",
   "metadata": {},
   "outputs": [
    {
     "name": "stdout",
     "output_type": "stream",
     "text": [
      "Enter the value of a  10\n",
      "Enter the value of b  20\n",
      "the swaping value of a is  20\n",
      "the swaping value of b is  10\n"
     ]
    }
   ],
   "source": [
    "#Write a Python program to swap two variables?\n",
    "a = int(input(\"Enter the value of a  \"))\n",
    "b = int(input(\"Enter the value of b  \"))\n",
    "x = a\n",
    "a = b\n",
    "b = x\n",
    "print(\"the swaping value of a is \", format(a))\n",
    "print(\"the swaping value of b is \", format(b))\n"
   ]
  },
  {
   "cell_type": "code",
   "execution_count": 20,
   "id": "8b8e3f21",
   "metadata": {},
   "outputs": [
    {
     "name": "stdout",
     "output_type": "stream",
     "text": [
      "272\n"
     ]
    }
   ],
   "source": [
    "#Write a Python program to generate a random number?\n",
    "import random\n",
    "random_number = random.randint(1, 999)\n",
    "\n",
    "print(random_number)"
   ]
  }
 ],
 "metadata": {
  "kernelspec": {
   "display_name": "Python 3 (ipykernel)",
   "language": "python",
   "name": "python3"
  },
  "language_info": {
   "codemirror_mode": {
    "name": "ipython",
    "version": 3
   },
   "file_extension": ".py",
   "mimetype": "text/x-python",
   "name": "python",
   "nbconvert_exporter": "python",
   "pygments_lexer": "ipython3",
   "version": "3.9.7"
  }
 },
 "nbformat": 4,
 "nbformat_minor": 5
}
