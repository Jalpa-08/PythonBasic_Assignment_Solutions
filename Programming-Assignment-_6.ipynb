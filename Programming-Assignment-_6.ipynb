{
 "cells": [
  {
   "cell_type": "code",
   "execution_count": 6,
   "id": "310fa6da",
   "metadata": {},
   "outputs": [
    {
     "name": "stdout",
     "output_type": "stream",
     "text": [
      "Enter the nmber 5\n",
      "0 1 1 2 3 "
     ]
    }
   ],
   "source": [
    "#Write a Python Program to Display Fibonacci Sequence Using Recursion?\n",
    "num = int(input(\"Enter the nmber \"))\n",
    "first = 0\n",
    "second = 1\n",
    "if num <= 0:\n",
    "    print(\"this is not a valid number\")\n",
    "elif num ==1:\n",
    "    print(\"Fibonacci for\", num, \"is 1\")\n",
    "else:\n",
    "    print(first, second, end=\" \")\n",
    "    for i in range(2, num):\n",
    "        n = first + second\n",
    "        print(n, end =\" \")\n",
    "        first = second\n",
    "        second = n"
   ]
  },
  {
   "cell_type": "code",
   "execution_count": 3,
   "id": "b40c5da3",
   "metadata": {},
   "outputs": [
    {
     "name": "stdout",
     "output_type": "stream",
     "text": [
      "Enter the number : 4\n",
      "The factorial of 4 is 24\n"
     ]
    }
   ],
   "source": [
    "# Write a Python Program to Find Factorial of Number Using Recursion?\n",
    "def factorial(x):\n",
    "    \"\"\"This is a recursive function\n",
    "    to find the factorial of an integer\"\"\"\n",
    "\n",
    "    if x == 1:\n",
    "        return 1\n",
    "    else:\n",
    "        return (x * factorial(x-1))\n",
    "\n",
    "\n",
    "num = int(input(\"Enter the number : \"))\n",
    "print(\"The factorial of\", num, \"is\", factorial(num))"
   ]
  },
  {
   "cell_type": "code",
   "execution_count": 14,
   "id": "864d3cf1",
   "metadata": {},
   "outputs": [
    {
     "name": "stdout",
     "output_type": "stream",
     "text": [
      "Enter the weight in kg 60\n",
      "Enter the Height in cm 157\n",
      "Your BMI is 24.341758286340216\n",
      "You are healthy.\n"
     ]
    }
   ],
   "source": [
    "# Write a Python Program to calculate your Body Mass Index?\n",
    "Weight = float(input(\"Enter the weight in kg \"))\n",
    "Height = float(input(\"Enter the Height in cm \"))\n",
    "\n",
    "BMI = Weight / (Height/100) ** 2\n",
    "print(f\"Your BMI is {BMI}\")\n",
    "\n",
    "if BMI <= 18.4:\n",
    "    print(\"You are underweight.\")\n",
    "elif BMI <= 24.9:\n",
    "    print(\"You are healthy.\")\n",
    "elif BMI <= 29.9:\n",
    "    print(\"You are over weight.\")\n",
    "elif BMI <= 34.9:\n",
    "    print(\"You are severely over weight.\")\n",
    "elif BMI <= 39.9:\n",
    "    print(\"You are obese.\")\n",
    "else:\n",
    "    print(\"You are severely obese.\")"
   ]
  },
  {
   "cell_type": "code",
   "execution_count": 26,
   "id": "2b180681",
   "metadata": {},
   "outputs": [
    {
     "name": "stdout",
     "output_type": "stream",
     "text": [
      "Enter the natural number5\n",
      "Natural logarithm of 5.01.6094379124341003\n"
     ]
    }
   ],
   "source": [
    "# Write a Python Program to calculate the natural logarithm of any number?\n",
    "import math\n",
    "natural_number = float(input(\"Enter the natural number\"))\n",
    "print (\"Natural logarithm of\", natural_number, end=\"\")\n",
    "print (math.log(natural_number))\n"
   ]
  },
  {
   "cell_type": "code",
   "execution_count": 32,
   "id": "38d19bc5",
   "metadata": {},
   "outputs": [
    {
     "name": "stdout",
     "output_type": "stream",
     "text": [
      "Enter the number : 5\n",
      "1\n",
      "9\n",
      "36\n",
      "100\n",
      "225\n"
     ]
    }
   ],
   "source": [
    "# Write a Python Program for cube sum of first n natural numbers?\n",
    "n = int(input(\"Enter the number : \"))\n",
    "sum = 0\n",
    "for i in range (1, n+1):\n",
    "    sum += i*i*i\n",
    "    print(sum)\n"
   ]
  },
  {
   "cell_type": "code",
   "execution_count": 40,
   "id": "f50e3e34",
   "metadata": {},
   "outputs": [
    {
     "data": {
      "text/plain": [
       "36"
      ]
     },
     "execution_count": 40,
     "metadata": {},
     "output_type": "execute_result"
    }
   ],
   "source": [
    "def findCubeSum(n):\n",
    "    sum = 0\n",
    "    for i in range(1, n+1):\n",
    "        sum += i*i*i\n",
    "    return sum\n",
    "findCubeSum(3)"
   ]
  }
 ],
 "metadata": {
  "kernelspec": {
   "display_name": "Python 3 (ipykernel)",
   "language": "python",
   "name": "python3"
  },
  "language_info": {
   "codemirror_mode": {
    "name": "ipython",
    "version": 3
   },
   "file_extension": ".py",
   "mimetype": "text/x-python",
   "name": "python",
   "nbconvert_exporter": "python",
   "pygments_lexer": "ipython3",
   "version": "3.9.7"
  }
 },
 "nbformat": 4,
 "nbformat_minor": 5
}
