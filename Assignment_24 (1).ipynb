{
 "cells": [
  {
   "cell_type": "code",
   "execution_count": null,
   "id": "36e73b5e",
   "metadata": {},
   "outputs": [],
   "source": [
    "#1. What is the relationship between def statements and lambda expressions ?\n",
    "The only difference is that (a) the body of a lambda can consist of only a single expression, the result of which is returned from the function created and (b) a lambda expression is an expression which evaluates to a function object, while a def statement has no value, and creates a function object and binds it to a\n",
    "\n",
    "\n",
    "\n",
    "\n",
    "\n",
    "\n"
   ]
  },
  {
   "cell_type": "code",
   "execution_count": null,
   "id": "fd0f4e7c",
   "metadata": {},
   "outputs": [],
   "source": [
    "#2. What is the benefit of lambda?\n",
    "we require a nameless function for a short period of time. you can consolidate more of the functionality your team requires to operate under one house. This not only reduces administrative costs but also makes your team's workflow more streamlined and efficient."
   ]
  },
  {
   "cell_type": "code",
   "execution_count": null,
   "id": "6292e8bc",
   "metadata": {},
   "outputs": [],
   "source": [
    "#3. Compare and contrast map, filter, and reduce.\n",
    "Both map and reduce have as input the array and a function you define. They are in some way complementary: map cannot return one single element for an array of multiple elements, while reduce will always return the accumulator you eventually changed."
   ]
  },
  {
   "cell_type": "code",
   "execution_count": null,
   "id": "c0da0322",
   "metadata": {},
   "outputs": [],
   "source": [
    "#4. What are function annotations, and how are they used?\n",
    "Function annotations are completely optional both for parameters and return value. Function annotations provide a way of associating various parts of a function with arbitrary python expressions at compile time."
   ]
  },
  {
   "cell_type": "code",
   "execution_count": null,
   "id": "3557ec5b",
   "metadata": {},
   "outputs": [],
   "source": [
    "#5. What are recursive functions, and how are they used?\n",
    "A recursive function is a function that calls itself during its execution. The process may repeat several times, outputting the result and the end of each iteration."
   ]
  },
  {
   "cell_type": "code",
   "execution_count": null,
   "id": "3fb81ef2",
   "metadata": {},
   "outputs": [],
   "source": [
    "#6. What are some general design guidelines for coding functions?\n",
    "Safe: It can be used without causing harm.\n",
    "Secure: It can't be hacked.\n",
    "Reliable: It functions as it should, every time.\n",
    "Testable: It can be tested at the code level.\n",
    "Maintainable: It can be maintained, even as your codebase grows.\n",
    "Portable: It works the same in every environment."
   ]
  },
  {
   "cell_type": "code",
   "execution_count": null,
   "id": "6153514f",
   "metadata": {},
   "outputs": [],
   "source": [
    "#7. Name three or more ways that functions can communicate results to a caller.\n",
    "But for functions with arguments, we can call a function in two different ways, based on how we specify the arguments, and these two ways are: Call by Value. Call by Reference."
   ]
  }
 ],
 "metadata": {
  "kernelspec": {
   "display_name": "Python 3 (ipykernel)",
   "language": "python",
   "name": "python3"
  },
  "language_info": {
   "codemirror_mode": {
    "name": "ipython",
    "version": 3
   },
   "file_extension": ".py",
   "mimetype": "text/x-python",
   "name": "python",
   "nbconvert_exporter": "python",
   "pygments_lexer": "ipython3",
   "version": "3.9.7"
  }
 },
 "nbformat": 4,
 "nbformat_minor": 5
}
