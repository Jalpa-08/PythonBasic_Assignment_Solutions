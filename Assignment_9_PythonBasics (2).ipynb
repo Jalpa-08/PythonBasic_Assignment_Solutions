{
 "cells": [
  {
   "cell_type": "code",
   "execution_count": null,
   "id": "7f9bcb0b",
   "metadata": {},
   "outputs": [],
   "source": [
    "1.To what does a relative path refer?\n",
    "A relative path refers to a location that is relative to a current directory. \n",
    "Relative paths make use of two special symbols, a dot (.) and a double-dot (..), \n",
    "which translate into the current directory and the parent directory. \n",
    "Double dots are used for moving up in the hierarchy. \n",
    "A single dot represents the current directory itself."
   ]
  },
  {
   "cell_type": "code",
   "execution_count": null,
   "id": "89c396d4",
   "metadata": {},
   "outputs": [],
   "source": [
    "2. What does an absolute path start with your operating system?\n",
    "An absolute path refers to the complete details needed to locate a file or folder, \n",
    "starting from the root element and ending with the other subdirectories. \n",
    "Absolute paths are used in websites and operating systems for locating files and folders. \n",
    "An absolute path is also known as an absolute pathname or full path.\n"
   ]
  },
  {
   "cell_type": "code",
   "execution_count": null,
   "id": "c5791f4f",
   "metadata": {},
   "outputs": [],
   "source": [
    "3. What do the functions os.getcwd() and os.chdir() do?\n",
    "os.getcwd() : CWD stands for Current Working Directory\n",
    "os.chdir() is used for change the directory\n"
   ]
  },
  {
   "cell_type": "code",
   "execution_count": null,
   "id": "bb640bae",
   "metadata": {},
   "outputs": [],
   "source": [
    "4. What are the . and .. folders?\n",
    "The . is the current directory, and .. signifies the parent directory.\n"
   ]
  },
  {
   "cell_type": "code",
   "execution_count": null,
   "id": "002d4e56",
   "metadata": {},
   "outputs": [],
   "source": [
    "5. In C:\\bacon\\eggs\\spam.txt, which part is the dir name, and which part is the base name?\n",
    "dir name = C:\\bacon\\eggs\n",
    "base (or file) name = spam.txt"
   ]
  },
  {
   "cell_type": "code",
   "execution_count": null,
   "id": "de8ad078",
   "metadata": {},
   "outputs": [],
   "source": [
    "6. What are the three “mode” arguments that can be passed to the open() function?\n",
    "read/readlines, write, and append\n"
   ]
  },
  {
   "cell_type": "code",
   "execution_count": null,
   "id": "625d4ca5",
   "metadata": {},
   "outputs": [],
   "source": [
    "7. What happens if an existing file is opened in write mode?\n",
    "It overwrites the existing file and starts from scratch\n"
   ]
  },
  {
   "cell_type": "code",
   "execution_count": null,
   "id": "da3c70d3",
   "metadata": {},
   "outputs": [],
   "source": [
    "8. How do you tell the difference between read() and readlines()?\n",
    "read() reads all of the file's contents into a string, readline reads just a single line from the file"
   ]
  },
  {
   "cell_type": "code",
   "execution_count": null,
   "id": "349a7ed3",
   "metadata": {},
   "outputs": [],
   "source": [
    "9. What data structure does a shelf value resemble?\n",
    "A shelf value resembles a dictionary value; it has keys and values, along with keys() and values() methods \n",
    "that work similarly to the dictionary methods of the same names.\n"
   ]
  }
 ],
 "metadata": {
  "kernelspec": {
   "display_name": "Python 3 (ipykernel)",
   "language": "python",
   "name": "python3"
  },
  "language_info": {
   "codemirror_mode": {
    "name": "ipython",
    "version": 3
   },
   "file_extension": ".py",
   "mimetype": "text/x-python",
   "name": "python",
   "nbconvert_exporter": "python",
   "pygments_lexer": "ipython3",
   "version": "3.9.7"
  }
 },
 "nbformat": 4,
 "nbformat_minor": 5
}
